{
 "cells": [
  {
   "cell_type": "code",
   "execution_count": 16,
   "metadata": {},
   "outputs": [
    {
     "name": "stdout",
     "output_type": "stream",
     "text": [
      "500 images and labels moved to test path.\n"
     ]
    }
   ],
   "source": [
    "import os\n",
    "import shutil\n",
    "import random\n",
    "\n",
    "# Paths for source and destination folders\n",
    "source_img_path = 'C:/Users/ameen/Desktop/Project_GUN_Detection/Datasets/YouTube-GDD/images/train'\n",
    "source_lbl_path = 'C:/Users/ameen/Desktop/Project_GUN_Detection/Datasets/YouTube-GDD/labels/train'\n",
    "dest_img_path = 'C:/Users/ameen/Desktop/Project_GUN_Detection/Datasets/YouTube-GDD/images/test'\n",
    "dest_lbl_path = 'C:/Users/ameen/Desktop/Project_GUN_Detection/Datasets/YouTube-GDD/labels/test'\n",
    "\n",
    "# Ensure destination folders exist\n",
    "os.makedirs(dest_img_path, exist_ok=True)\n",
    "os.makedirs(dest_lbl_path, exist_ok=True)\n",
    "\n",
    "# Get list of files in source directory\n",
    "image_files = [f for f in os.listdir(source_img_path) if f.endswith('.jpg')]\n",
    "label_files = [f.replace('.jpg', '.txt') for f in image_files]  # assuming same name structure\n",
    "\n",
    "# Randomly select 500 images and corresponding labels\n",
    "selected_files = random.sample(list(zip(image_files, label_files)), 500)\n",
    "\n",
    "# Copy selected files to test directory\n",
    "# for img, lbl in selected_files:\n",
    "#     shutil.copy(os.path.join(source_img_path, img), os.path.join(dest_img_path, img))\n",
    "#     shutil.copy(os.path.join(source_lbl_path, lbl), os.path.join(dest_lbl_path, lbl))\n",
    "\n",
    "\n",
    "# Move selected files to test directory\n",
    "for img, lbl in selected_files:\n",
    "    shutil.move(os.path.join(source_img_path, img), os.path.join(dest_img_path, img))\n",
    "    shutil.move(os.path.join(source_lbl_path, lbl), os.path.join(dest_lbl_path, lbl))\n",
    "\n",
    "print(\"500 images and labels moved to test path.\")\n"
   ]
  },
  {
   "cell_type": "code",
   "execution_count": 6,
   "metadata": {},
   "outputs": [
    {
     "name": "stdout",
     "output_type": "stream",
     "text": [
      "729\n"
     ]
    }
   ],
   "source": [
    "import os\n",
    "\n",
    "def replace_class_type(directory):\n",
    "    # Iterate through all files in the directory\n",
    "    for filename in os.listdir(directory):\n",
    "        if filename.endswith('.txt'):  # Check for label files\n",
    "            file_path = os.path.join(directory, filename)\n",
    "            with open(file_path, 'r') as file:\n",
    "                lines = file.readlines()\n",
    "            \n",
    "            # Replace class type 0 with 3\n",
    "            with open(file_path, 'w') as file:\n",
    "                for line in lines:\n",
    "                    parts = line.split()\n",
    "                    if parts and parts[0] == '0':\n",
    "                        parts[0] = '2'  # Change class type from 0 to 3\n",
    "                    file.write(' '.join(parts) + '\\n')\n",
    "\n",
    "directory_path = 'C:/Users/ameen/Downloads/yolo7.v2i.yolov8/valid/labels'\n",
    "replace_class_type(directory_path)"
   ]
  },
  {
   "cell_type": "code",
   "execution_count": null,
   "metadata": {},
   "outputs": [],
   "source": [
    "import os\n",
    "\n",
    "# Define the root directory of your dataset\n",
    "dataset_root = 'RiskScanConstruction'\n",
    "\n",
    "# Directories to iterate through (train, test, valid)\n",
    "splits = ['train', 'test', 'valid']\n",
    "\n",
    "# Function to rename files\n",
    "def rename_files(directory):\n",
    "    for folder in ['images', 'labels']:\n",
    "        folder_path = os.path.join(directory, folder)\n",
    "        \n",
    "        for filename in os.listdir(folder_path):\n",
    "            # Only proceed if there is an '&' in the filename or other characters to avoid\n",
    "            if '&' in filename or ' ' in filename:  # Add any additional unwanted characters here\n",
    "                # Generate the new filename by replacing unwanted characters with '_'\n",
    "                new_filename = filename.replace('&', '_').replace(' ', '_')\n",
    "                \n",
    "                # Full path for the current and new file names\n",
    "                old_file_path = os.path.join(folder_path, filename)\n",
    "                new_file_path = os.path.join(folder_path, new_filename)\n",
    "                \n",
    "                # Rename the file\n",
    "                os.rename(old_file_path, new_file_path)\n",
    "                print(f\"Renamed: {old_file_path} -> {new_file_path}\")\n",
    "\n",
    "# Iterate through each split and rename files in images and labels folders\n",
    "for split in splits:\n",
    "    split_path = os.path.join(dataset_root, split)\n",
    "    rename_files(split_path)\n",
    "\n",
    "print(\"Renaming completed successfully.\")\n"
   ]
  }
 ],
 "metadata": {
  "kernelspec": {
   "display_name": "Python 3",
   "language": "python",
   "name": "python3"
  },
  "language_info": {
   "codemirror_mode": {
    "name": "ipython",
    "version": 3
   },
   "file_extension": ".py",
   "mimetype": "text/x-python",
   "name": "python",
   "nbconvert_exporter": "python",
   "pygments_lexer": "ipython3",
   "version": "3.12.7"
  }
 },
 "nbformat": 4,
 "nbformat_minor": 2
}
